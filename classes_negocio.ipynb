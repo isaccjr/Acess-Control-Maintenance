{
 "cells": [
  {
   "cell_type": "code",
   "execution_count": 5,
   "metadata": {},
   "outputs": [],
   "source": [
    "from controle_de_acesso import Porta\n",
    "from controle_de_acesso import Controladora"
   ]
  },
  {
   "cell_type": "code",
   "execution_count": 6,
   "metadata": {},
   "outputs": [],
   "source": [
    "class Cliente:\n",
    "    def __init__(self, nome, responsavel, tel, instalacoes):\n",
    "        self._nome = nome\n",
    "        self._responsavel = responsavel\n",
    "        self._tel = tel\n",
    "        self._instalacoes = instalacoes\n",
    "\n",
    "    def criar_intalacao(self, instalacao):\n",
    "        self._instalacoes.append(instalacao)\n",
    "    \n",
    "    def getResponsavel(self):\n",
    "        return self._responsavel\n",
    "    def setResponsavel(self,responsavel):\n",
    "        self._responsavel = responsavel\n",
    "    \n",
    "    def getTel(self):\n",
    "        return self._tel\n",
    "    def setTel(self,tel):\n",
    "        self._tel = tel\n",
    "\n",
    "    def getInstalacoes(self):\n",
    "        return self._instalacoes\n",
    "\n",
    "    def __str__(self):\n",
    "        return f\"Client Name: {self._nome}\\nInstallations: {self._instalacoes}\"\n"
   ]
  },
  {
   "cell_type": "code",
   "execution_count": 7,
   "metadata": {},
   "outputs": [],
   "source": [
    "class Andar:\n",
    "    def __init__(self, nome:str,portas:list[Porta],controladoras:list[Controladora]):\n",
    "        self._nome = nome,\n",
    "        self._portas = portas\n",
    "        self._controladoras = controladoras\n",
    "\n",
    "\n",
    "    def getNome(self):\n",
    "        return self._nome\n",
    "    def setNome(self, nome):\n",
    "        self._nome = nome\n",
    "\n",
    "    def criaPorta(self, porta:Porta):\n",
    "        if isinstance(porta,Porta):\n",
    "            self._portas.append(porta)\n",
    "        else:\n",
    "            raise TypeError(\"O argumento deve ser do tipo Porta\")\n",
    "    def listaPortas(self)->list[Porta]:\n",
    "        nome_portas = []\n",
    "        for porta in self._portas:\n",
    "            nome_portas.append(porta.getNome())\n",
    "        return nome_portas\n",
    "    \n",
    "    def criaControladora(self, controladora:Controladora):\n",
    "        if isinstance(controladora,Controladora):\n",
    "            self._controladoras.append(controladora)\n",
    "        else:\n",
    "            raise TypeError(\"O argumento deve ser do tipo Controladora\")\n",
    "        \n",
    "    def listaControladoras(self):\n",
    "        controladoras = []\n",
    "        for controladora in self._controladoras:\n",
    "            controladoras.append(controladora.getLocal())\n",
    "\n"
   ]
  },
  {
   "cell_type": "code",
   "execution_count": 8,
   "metadata": {},
   "outputs": [],
   "source": [
    "class Instalacoes:\n",
    "    def __init__(self,nome:str,endereco:str,gps:tuple[float,float],andares:list[Andar]):\n",
    "        self._nome = nome\n",
    "        self._endereco = endereco\n",
    "        self._gps = gps\n",
    "        self._andares = andares\n",
    "    \n",
    "    def getNome(self):\n",
    "        return self._nome\n",
    "    def setNome(self,nome):\n",
    "        self._nome = nome\n",
    "    \n",
    "    def getEndereco(self):\n",
    "        return self._endereco\n",
    "    def setEndereco(self,endereco):\n",
    "        self._endereco = endereco\n",
    "\n",
    "    def getGPS(self):\n",
    "        return self._gps\n",
    "    def setGPS(self, gps):\n",
    "        self._gps = gps\n",
    "\n",
    "    def getAndares(self):\n",
    "        return self._andares\n",
    "    \n",
    "    def criaAndar(self,andar):\n",
    "        self._andares.append(andar)\n",
    "\n",
    "        "
   ]
  }
 ],
 "metadata": {
  "kernelspec": {
   "display_name": "GuardhouseAutomation",
   "language": "python",
   "name": "python3"
  },
  "language_info": {
   "codemirror_mode": {
    "name": "ipython",
    "version": 3
   },
   "file_extension": ".py",
   "mimetype": "text/x-python",
   "name": "python",
   "nbconvert_exporter": "python",
   "pygments_lexer": "ipython3",
   "version": "3.10.16"
  }
 },
 "nbformat": 4,
 "nbformat_minor": 2
}
